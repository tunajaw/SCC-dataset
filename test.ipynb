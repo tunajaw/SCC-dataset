{
 "cells": [
  {
   "cell_type": "code",
   "execution_count": 26,
   "metadata": {},
   "outputs": [
    {
     "name": "stdout",
     "output_type": "stream",
     "text": [
      "                    name type\n",
      "0    20230723_115456.jpg  wfd\n",
      "1    20230723_115509.jpg  wfd\n",
      "2    20230723_115515.jpg  wfd\n",
      "3    20230723_115627.jpg  wfd\n",
      "4    20230723_115649.jpg  wfd\n",
      "..                   ...  ...\n",
      "475  20230723_140729.jpg  yfd\n",
      "476  20230723_140738.jpg  yfd\n",
      "477  20230723_140803.jpg  yfd\n",
      "478  20230723_140810.jpg  yfd\n",
      "479  20230723_140814.jpg  yfd\n",
      "\n",
      "[480 rows x 2 columns]\n"
     ]
    }
   ],
   "source": [
    "import os\n",
    "import pandas as pd\n",
    "\n",
    "df = pd.DataFrame({'name':[], 'type':[]})\n",
    "\n",
    "for dir_path, _, file_names in os.walk('./'):\n",
    "    if(len(dir_path)>2):\n",
    "        if(dir_path[2] != '.'):\n",
    "            for name in file_names:\n",
    "                new_row = {'name':[name], 'type':[dir_path[2:]]}\n",
    "                df = pd.concat([df, pd.DataFrame(new_row)])\n",
    "\n",
    "df = df.reset_index(drop=True)\n",
    "\n",
    "print(df)\n",
    "\n",
    "df.to_csv('label.csv', index=False)\n"
   ]
  }
 ],
 "metadata": {
  "kernelspec": {
   "display_name": "pt-gpu",
   "language": "python",
   "name": "python3"
  },
  "language_info": {
   "codemirror_mode": {
    "name": "ipython",
    "version": 3
   },
   "file_extension": ".py",
   "mimetype": "text/x-python",
   "name": "python",
   "nbconvert_exporter": "python",
   "pygments_lexer": "ipython3",
   "version": "3.11.4"
  },
  "orig_nbformat": 4
 },
 "nbformat": 4,
 "nbformat_minor": 2
}
